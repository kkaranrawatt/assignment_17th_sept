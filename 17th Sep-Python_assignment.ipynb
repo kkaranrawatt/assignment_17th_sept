{
 "cells": [
  {
   "cell_type": "code",
   "execution_count": 1,
   "id": "26a743e6",
   "metadata": {},
   "outputs": [
    {
     "name": "stdout",
     "output_type": "stream",
     "text": [
      "1\n",
      "2\n",
      "3\n",
      "4\n",
      "5\n",
      "6\n",
      "7\n",
      "8\n",
      "9\n",
      "10\n"
     ]
    }
   ],
   "source": [
    "for i in range(1,11):\n",
    "    print (i)"
   ]
  },
  {
   "cell_type": "code",
   "execution_count": 2,
   "id": "c22149c2",
   "metadata": {},
   "outputs": [],
   "source": [
    "def sum_of_100():\n",
    "    sum=0\n",
    "    for i in range(1,101):\n",
    "        sum=sum+i\n",
    "    return sum"
   ]
  },
  {
   "cell_type": "code",
   "execution_count": 3,
   "id": "68482f8d",
   "metadata": {},
   "outputs": [
    {
     "data": {
      "text/plain": [
       "5050"
      ]
     },
     "execution_count": 3,
     "metadata": {},
     "output_type": "execute_result"
    }
   ],
   "source": [
    "sum_of_100()"
   ]
  },
  {
   "cell_type": "code",
   "execution_count": 4,
   "id": "b03cba6d",
   "metadata": {},
   "outputs": [
    {
     "name": "stdout",
     "output_type": "stream",
     "text": [
      "1\n",
      "2\n",
      "3\n",
      "4\n",
      "5\n",
      "6\n"
     ]
    }
   ],
   "source": [
    "l=[1,2,3,4,5,6]\n",
    "for i in l:\n",
    "    print(i)"
   ]
  },
  {
   "cell_type": "code",
   "execution_count": 5,
   "id": "20984130",
   "metadata": {},
   "outputs": [],
   "source": [
    "def mullist(mylist):\n",
    "    result=1\n",
    "    for x in mylist:\n",
    "        result=result*x\n",
    "    return result"
   ]
  },
  {
   "cell_type": "code",
   "execution_count": 6,
   "id": "1d0b1d5a",
   "metadata": {},
   "outputs": [
    {
     "name": "stdout",
     "output_type": "stream",
     "text": [
      "<function mullist at 0x000001F863D8EDE0> (2, 5, 8)\n",
      "<function mullist at 0x000001F863D8EDE0> (3, 6, 9)\n"
     ]
    }
   ],
   "source": [
    "list1=(2,5,8)\n",
    "list2=(3,6,9)\n",
    "print(mullist, (list1))\n",
    "print(mullist, (list2))"
   ]
  },
  {
   "cell_type": "code",
   "execution_count": 7,
   "id": "a1d5ef95",
   "metadata": {},
   "outputs": [
    {
     "name": "stdout",
     "output_type": "stream",
     "text": [
      "2 4 6 8 10 12 14 16 18 20 "
     ]
    }
   ],
   "source": [
    "for x in range(1,21):\n",
    "    if x%2==0:\n",
    "        print(x, end=' ')"
   ]
  },
  {
   "cell_type": "code",
   "execution_count": 8,
   "id": "4f4d67af",
   "metadata": {},
   "outputs": [
    {
     "name": "stdout",
     "output_type": "stream",
     "text": [
      "Enter a number:5\n",
      "The factorial of  5 is 1\n",
      "The factorial of  5 is 2\n",
      "The factorial of  5 is 6\n",
      "The factorial of  5 is 24\n",
      "The factorial of  5 is 120\n"
     ]
    }
   ],
   "source": [
    "n=int(input('Enter a number:'))\n",
    "fact=1\n",
    "for i in range(1,n+1):\n",
    "    fact=fact*i\n",
    "    print('The factorial of ',n, 'is', fact)"
   ]
  },
  {
   "cell_type": "code",
   "execution_count": 9,
   "id": "2b309e02",
   "metadata": {},
   "outputs": [
    {
     "name": "stdout",
     "output_type": "stream",
     "text": [
      "Largest element in array is: 9\n"
     ]
    }
   ],
   "source": [
    "l=[1,4,8,5,2,9]\n",
    "\n",
    "l.sort()\n",
    "print('Largest element in array is:', l[-1])"
   ]
  },
  {
   "cell_type": "code",
   "execution_count": 10,
   "id": "5925a72f",
   "metadata": {},
   "outputs": [
    {
     "name": "stdout",
     "output_type": "stream",
     "text": [
      "1 2 3 5 8 13 21 "
     ]
    }
   ],
   "source": [
    "a,b=0,1\n",
    "for i in range(7):\n",
    "    c=a+b\n",
    "    print(c, end=' ')\n",
    "    a=b\n",
    "    b=c"
   ]
  },
  {
   "cell_type": "code",
   "execution_count": 11,
   "id": "17544876",
   "metadata": {},
   "outputs": [
    {
     "name": "stdout",
     "output_type": "stream",
     "text": [
      "6\n"
     ]
    }
   ],
   "source": [
    "string='Hello World, Welcome'\n",
    "vowels='aeiouAEIOU'\n",
    "count=sum(string.count(vowel) for vowel in vowels)\n",
    "print(count)"
   ]
  },
  {
   "cell_type": "code",
   "execution_count": 12,
   "id": "b79277e5",
   "metadata": {},
   "outputs": [
    {
     "name": "stdout",
     "output_type": "stream",
     "text": [
      "Enter a number to generate a multiplication number5\n",
      "5 * 1 = 5\n",
      "5 * 2 = 10\n",
      "5 * 3 = 15\n",
      "5 * 4 = 20\n",
      "5 * 5 = 25\n",
      "5 * 6 = 30\n",
      "5 * 7 = 35\n",
      "5 * 8 = 40\n",
      "5 * 9 = 45\n",
      "5 * 10 = 50\n"
     ]
    }
   ],
   "source": [
    "num=int(input('Enter a number to generate a multiplication number'))\n",
    "for i in range(1,11):\n",
    "    result=num*i\n",
    "    print(num,'*',i,'=',result)"
   ]
  },
  {
   "cell_type": "code",
   "execution_count": 13,
   "id": "fe14943c",
   "metadata": {},
   "outputs": [
    {
     "name": "stdout",
     "output_type": "stream",
     "text": [
      "[6]\n",
      "[6, 5]\n",
      "[6, 5, 4]\n",
      "[6, 5, 4, 3]\n",
      "[6, 5, 4, 3, 2]\n",
      "[6, 5, 4, 3, 2, 1]\n"
     ]
    }
   ],
   "source": [
    "l1=[1,2,3,4,5,6]\n",
    "l2=[]\n",
    "for i in range(len(l1)):\n",
    "    l2.insert(i,l1[-1])\n",
    "    l1.pop(-1)\n",
    "    print(l2)"
   ]
  },
  {
   "cell_type": "code",
   "execution_count": 14,
   "id": "f458c2cd",
   "metadata": {},
   "outputs": [
    {
     "data": {
      "text/plain": [
       "[6, 5, 4, 3, 2, 1]"
      ]
     },
     "execution_count": 14,
     "metadata": {},
     "output_type": "execute_result"
    }
   ],
   "source": [
    "l2"
   ]
  },
  {
   "cell_type": "code",
   "execution_count": 15,
   "id": "743f008d",
   "metadata": {},
   "outputs": [
    {
     "name": "stdout",
     "output_type": "stream",
     "text": [
      "[4, 5]\n"
     ]
    }
   ],
   "source": [
    "l1=[1,2,3,4,5]\n",
    "l2=[4,5,6,8]\n",
    "common=[i for i in l1 if i in l2]\n",
    "print(common)"
   ]
  },
  {
   "cell_type": "code",
   "execution_count": 16,
   "id": "39ef1398",
   "metadata": {},
   "outputs": [
    {
     "name": "stdout",
     "output_type": "stream",
     "text": [
      "UP\n",
      "MP\n",
      "Rajasthan\n",
      "Uttrakhand\n"
     ]
    }
   ],
   "source": [
    "states_dist={'UP':'Lucknow',\n",
    "            'MP': 'Indore',\n",
    "             'Rajasthan':'Jaipur',\n",
    "             'Uttrakhand':'Dehradun'\n",
    "            }\n",
    "for i in states_dist.keys():\n",
    "    print(i)"
   ]
  },
  {
   "cell_type": "code",
   "execution_count": 17,
   "id": "8ba10efb",
   "metadata": {},
   "outputs": [
    {
     "name": "stdout",
     "output_type": "stream",
     "text": [
      "Lucknow\n",
      "Indore\n",
      "Jaipur\n",
      "Dehradun\n"
     ]
    }
   ],
   "source": [
    "for i in states_dist.values():\n",
    "    print(i)"
   ]
  },
  {
   "cell_type": "code",
   "execution_count": 18,
   "id": "d6b82ddd",
   "metadata": {},
   "outputs": [
    {
     "name": "stdout",
     "output_type": "stream",
     "text": [
      "The GCD of 30 and 20 is:  10\n"
     ]
    }
   ],
   "source": [
    "import math\n",
    "print('The GCD of 30 and 20 is: ', end=' ')\n",
    "print(math.gcd(30,20))"
   ]
  },
  {
   "cell_type": "code",
   "execution_count": 19,
   "id": "e3c2a1f1",
   "metadata": {},
   "outputs": [
    {
     "name": "stdout",
     "output_type": "stream",
     "text": [
      "Enter a string: malayalam\n",
      "Reverse string is: m\n",
      "Reverse string is: am\n",
      "Reverse string is: lam\n",
      "Reverse string is: alam\n",
      "Reverse string is: yalam\n",
      "Reverse string is: ayalam\n",
      "Reverse string is: layalam\n",
      "Reverse string is: alayalam\n",
      "Reverse string is: malayalam\n",
      "This string is palindrome\n"
     ]
    }
   ],
   "source": [
    "string=input(\"Enter a string: \")\n",
    "revstr=''\n",
    "for i in string:\n",
    "    revstr=i+revstr\n",
    "    print('Reverse string is:', revstr)\n",
    "if(string==revstr):\n",
    "    print('This string is palindrome')\n",
    "else:\n",
    "    print('This string is not palindorme')"
   ]
  },
  {
   "cell_type": "code",
   "execution_count": 29,
   "id": "be8c3640",
   "metadata": {},
   "outputs": [
    {
     "name": "stdout",
     "output_type": "stream",
     "text": [
      "[1, 2, 3, 5, 6]\n"
     ]
    }
   ],
   "source": [
    "li1=[1,2,3,2,5,1,6]\n",
    "li2=[]\n",
    "for i in li1:\n",
    "    if i not in li2:\n",
    "        li2.append(i)\n",
    "print(li2)"
   ]
  },
  {
   "cell_type": "code",
   "execution_count": 32,
   "id": "1f30da59",
   "metadata": {},
   "outputs": [
    {
     "name": "stdout",
     "output_type": "stream",
     "text": [
      "Enter a string: this is a practice session\n",
      "Number of words:  5\n"
     ]
    }
   ],
   "source": [
    "text=input('Enter a string: ')\n",
    "chk=0\n",
    "countword=0\n",
    "textlen=len(text)\n",
    "for i in range(textlen):\n",
    "    if text[i]==' ':\n",
    "        if chk!=0:\n",
    "            countword=countword+1\n",
    "        chk=0\n",
    "    else:\n",
    "        chk=chk+1\n",
    "if chk!=0:\n",
    "    countword=countword+1\n",
    "print('Number of words: ', countword)"
   ]
  },
  {
   "cell_type": "code",
   "execution_count": 7,
   "id": "586d1d4f",
   "metadata": {},
   "outputs": [
    {
     "name": "stdout",
     "output_type": "stream",
     "text": [
      "Enter the starting num1\n",
      "Enter the ending num50\n",
      "1\n",
      "3\n",
      "5\n",
      "7\n",
      "9\n",
      "11\n",
      "13\n",
      "15\n",
      "17\n",
      "19\n",
      "21\n",
      "23\n",
      "25\n",
      "27\n",
      "29\n",
      "31\n",
      "33\n",
      "35\n",
      "37\n",
      "39\n",
      "41\n",
      "43\n",
      "45\n",
      "47\n",
      "49\n",
      "Sum of odd num is:  625\n"
     ]
    }
   ],
   "source": [
    "start=int(input('Enter the starting num'))\n",
    "end=int(input('Enter the ending num'))\n",
    "sum=0\n",
    "for i in range(start,end+1):\n",
    "    if (i%2!=0):\n",
    "        print('{0}'.format(i))\n",
    "        sum=sum+i\n",
    "print(\"Sum of odd num is: \",sum)"
   ]
  },
  {
   "cell_type": "code",
   "execution_count": 12,
   "id": "0560d01b",
   "metadata": {},
   "outputs": [
    {
     "name": "stdout",
     "output_type": "stream",
     "text": [
      "Enter the number: 2020\n"
     ]
    }
   ],
   "source": [
    "def CheckLeap(Year):  \n",
    "  # Checking if the given year is leap year  \n",
    "  if((Year % 400 == 0) or  \n",
    "     (Year % 100 != 0) and  \n",
    "     (Year % 4 == 0)):   \n",
    "    print(\"Given Year is a leap Year\");  \n",
    "  # Else it is not a leap year  \n",
    "  else:  \n",
    "    print (\"Given Year is not a leap Year\")  \n",
    "# Taking an input year from user  \n",
    "Year = int(input(\"Enter the number: \"))  \n"
   ]
  },
  {
   "cell_type": "code",
   "execution_count": 13,
   "id": "7a8bae0b",
   "metadata": {},
   "outputs": [
    {
     "name": "stdout",
     "output_type": "stream",
     "text": [
      "Given Year is a leap Year\n"
     ]
    }
   ],
   "source": [
    "CheckLeap(Year)"
   ]
  },
  {
   "cell_type": "code",
   "execution_count": 14,
   "id": "23bd15ad",
   "metadata": {},
   "outputs": [
    {
     "name": "stdout",
     "output_type": "stream",
     "text": [
      "LCM of  3 and 4 is 12\n"
     ]
    }
   ],
   "source": [
    "num1=3\n",
    "num2=4\n",
    "for i in range(max(num1,num2),1+(num1*num2)):\n",
    "    if i% num1==i % num2==0:\n",
    "        lcm=i\n",
    "        break\n",
    "print(\"LCM of \", num1, \"and\", num2, \"is\", lcm)"
   ]
  },
  {
   "cell_type": "code",
   "execution_count": 21,
   "id": "02fbef7e",
   "metadata": {},
   "outputs": [
    {
     "name": "stdout",
     "output_type": "stream",
     "text": [
      "Enter a number: 0\n",
      "This number is ZERO\n"
     ]
    }
   ],
   "source": [
    "a=int(input('Enter a number: '))\n",
    "if a>0:\n",
    "    print('The number is +ve')\n",
    "elif a<0:\n",
    "    print('The number is -ve')\n",
    "else:\n",
    "    print('This number is ZERO')"
   ]
  },
  {
   "cell_type": "code",
   "execution_count": 23,
   "id": "0421a46a",
   "metadata": {},
   "outputs": [
    {
     "name": "stdout",
     "output_type": "stream",
     "text": [
      "Enter a number: 3\n",
      "The number is odd\n"
     ]
    }
   ],
   "source": [
    "a=int(input('Enter a number: '))\n",
    "if a%2==0:\n",
    "    print('The number is even')\n",
    "else:\n",
    "    print('The number is odd')"
   ]
  },
  {
   "cell_type": "code",
   "execution_count": 24,
   "id": "06d456f5",
   "metadata": {},
   "outputs": [
    {
     "name": "stdout",
     "output_type": "stream",
     "text": [
      "The number is even and +ve\n"
     ]
    }
   ],
   "source": [
    "num=10\n",
    "if num>0:\n",
    "    if num%2==0:\n",
    "        print('The number is even and +ve')\n",
    "    else:\n",
    "        print('The number is odd and +ve')\n",
    "else:\n",
    "    print('The number is -ve')"
   ]
  },
  {
   "cell_type": "code",
   "execution_count": 27,
   "id": "da40a66a",
   "metadata": {},
   "outputs": [
    {
     "name": "stdout",
     "output_type": "stream",
     "text": [
      "The largest number is c\n"
     ]
    }
   ],
   "source": [
    "a=2\n",
    "b=3\n",
    "c=4\n",
    "\n",
    "if a>b and a>c:\n",
    "    print('The largest number is a')\n",
    "elif b>a and b>c:\n",
    "    print('The largest number is b')\n",
    "else:\n",
    "    print('The largest number is c')"
   ]
  },
  {
   "cell_type": "code",
   "execution_count": 31,
   "id": "3116db5c",
   "metadata": {},
   "outputs": [
    {
     "name": "stdout",
     "output_type": "stream",
     "text": [
      "Enter a value: -7\n",
      "7\n"
     ]
    }
   ],
   "source": [
    "a=int(input('Enter a value: '))\n",
    "if a>=0:\n",
    "    print(a)\n",
    "else:\n",
    "    print(-a)"
   ]
  },
  {
   "cell_type": "code",
   "execution_count": 34,
   "id": "e0d4df37",
   "metadata": {},
   "outputs": [
    {
     "name": "stdout",
     "output_type": "stream",
     "text": [
      "Enter a charachert: d\n",
      "d is a consonant\n"
     ]
    }
   ],
   "source": [
    "ch=input('Enter a charachert: ')\n",
    "if(ch=='a' or ch=='e' or ch=='i' or ch=='o' or ch=='u' or ch=='A' or ch=='E' or ch=='I' or ch=='O' or ch=='U'):\n",
    "    print(ch, \"is a vowel\")\n",
    "else:\n",
    "    \n",
    "    print(ch,'is a consonant')"
   ]
  },
  {
   "cell_type": "code",
   "execution_count": 39,
   "id": "bf908d8d",
   "metadata": {},
   "outputs": [
    {
     "name": "stdout",
     "output_type": "stream",
     "text": [
      "Enter your age: 19\n",
      "You're eligible to vote\n"
     ]
    }
   ],
   "source": [
    "voter=int(input('Enter your age: '))\n",
    "if voter>=18:\n",
    "    print(\"You're eligible to vote\")\n",
    "else:\n",
    "    print(\"You're not eligible to vote\")"
   ]
  },
  {
   "cell_type": "code",
   "execution_count": 42,
   "id": "c1cc38b4",
   "metadata": {},
   "outputs": [
    {
     "name": "stdout",
     "output_type": "stream",
     "text": [
      "Enter sale amount45000\n",
      "Discount is:  13500.0\n",
      "Net pay is:  31500.0\n"
     ]
    }
   ],
   "source": [
    "amt=int(input('Enter sale amount'))\n",
    "if(amt>0):\n",
    "    if amt<=5000:\n",
    "        disc=amt*.05\n",
    "    elif amt<=15000:\n",
    "        disc=amt*.2\n",
    "    elif amt<=25000:\n",
    "        disc=amt*.25\n",
    "    else:\n",
    "        disc=amt*.3\n",
    "    print(\"Discount is: \",disc)\n",
    "    print('Net pay is: ',amt-disc)\n",
    "else:\n",
    "    print('Invalid amount')"
   ]
  },
  {
   "cell_type": "code",
   "execution_count": 48,
   "id": "f4a91a5e",
   "metadata": {},
   "outputs": [
    {
     "name": "stdout",
     "output_type": "stream",
     "text": [
      "Enter a number: 17\n",
      "17 is in the range\n"
     ]
    }
   ],
   "source": [
    "num=int(input('Enter a number: '))\n",
    "if num in range(2,20,3):\n",
    "    print(num,'is in the range')\n",
    "else:\n",
    "    print(num,'is not in the range')"
   ]
  },
  {
   "cell_type": "code",
   "execution_count": 1,
   "id": "b156a136",
   "metadata": {},
   "outputs": [
    {
     "name": "stdout",
     "output_type": "stream",
     "text": [
      "Enter marks obtained is 5 subjects\n",
      "70\n",
      "80\n",
      "90\n",
      "65\n",
      "55\n",
      "Your grade is B1\n"
     ]
    }
   ],
   "source": [
    "print(\"Enter marks obtained is 5 subjects\")\n",
    "sub1=int(input())\n",
    "sub2=int(input())\n",
    "sub3=int(input())\n",
    "sub4=int(input())\n",
    "sub5=int(input())\n",
    "\n",
    "total=sub1+sub2+sub3+sub4+sub5\n",
    "avg=total/5\n",
    "\n",
    "if avg>=91 and avg<=100:\n",
    "    print('Your Grade is A1')\n",
    "elif avg>=81 and avg<=90:\n",
    "    print('Your Grade is A2')\n",
    "elif avg>=71 and avg<=80:\n",
    "    print('Your grade is B1')\n",
    "elif avg>=61 and avg<=70:\n",
    "    print('Your grade is B2')\n",
    "elif avg>=51 and avg<=60:\n",
    "    print('Your grade is C1')\n",
    "elif avg>=41 and avg<=50:\n",
    "    print('Your grade is C2')\n",
    "elif avg>=33 and avg<=40:\n",
    "    print('Your grade is D')\n",
    "elif avg>33:\n",
    "    print('Your grade is E')\n",
    "else:\n",
    "    print('Invalid number')"
   ]
  },
  {
   "cell_type": "code",
   "execution_count": 2,
   "id": "f02ca6a5",
   "metadata": {},
   "outputs": [
    {
     "name": "stdout",
     "output_type": "stream",
     "text": [
      "Your string is not empty\n"
     ]
    }
   ],
   "source": [
    "mystr=\" \"\n",
    "if len(mystr)==0:\n",
    "    print('Your string is empty')\n",
    "else:\n",
    "    print('Your string is not empty')"
   ]
  },
  {
   "cell_type": "code",
   "execution_count": 5,
   "id": "448c4cbf",
   "metadata": {},
   "outputs": [
    {
     "name": "stdout",
     "output_type": "stream",
     "text": [
      "Enter the length of triangle sides\n",
      "x: 5\n",
      "y: 6\n",
      "z: 7\n",
      "This is Scalene Triangle\n"
     ]
    }
   ],
   "source": [
    "print('Enter the length of triangle sides')\n",
    "x=int(input('x: '))\n",
    "y=int(input('y: '))\n",
    "z=int(input('z: '))\n",
    "if x==y==z:\n",
    "    print('This is Equilateral Triangle')\n",
    "elif x==y or y==z or x==z:\n",
    "    print('This is Isosceles triangle')\n",
    "else:\n",
    "    print('This is Scalene Triangle')"
   ]
  },
  {
   "cell_type": "code",
   "execution_count": 11,
   "id": "4eefe867",
   "metadata": {},
   "outputs": [
    {
     "name": "stdout",
     "output_type": "stream",
     "text": [
      "Enter a number for your day in a week: 3\n",
      "Your appointment is on Wednesday\n"
     ]
    }
   ],
   "source": [
    "user=int(input('Enter a number for your day in a week: '))\n",
    "if user ==1:\n",
    "    print('Your appointment is on Monday')\n",
    "elif user==2:\n",
    "    print('Your appointment is on Tuesday')\n",
    "elif user==3:\n",
    "    print('Your appointment is on Wednesday')\n",
    "elif user==4:\n",
    "    print('Your appointment is on Thursday')\n",
    "elif user==5:\n",
    "    print('Your appointment is on Friday')\n",
    "elif user==6:\n",
    "    print('Your appointment is on Saturday')\n",
    "elif user==7:\n",
    "    print('No appointment for Sunday')\n",
    "else:\n",
    "    print('Invalid number')"
   ]
  },
  {
   "cell_type": "code",
   "execution_count": 15,
   "id": "d8ba1443",
   "metadata": {},
   "outputs": [
    {
     "name": "stdout",
     "output_type": "stream",
     "text": [
      "Enter the Year: 2029\n",
      "Given Year is not a leap Year\n"
     ]
    }
   ],
   "source": [
    "Year = int(input(\"Enter the Year: \"))\n",
    "if((Year % 400 == 0) or  (Year % 100 != 0) and  (Year % 4 == 0)):\n",
    "    print(\"Given Year is a leap Year\");  \n",
    "else:  \n",
    "    print (\"Given Year is not a leap Year\")  \n"
   ]
  },
  {
   "cell_type": "code",
   "execution_count": 18,
   "id": "03baa644",
   "metadata": {},
   "outputs": [
    {
     "name": "stdout",
     "output_type": "stream",
     "text": [
      "Enter the age: 65\n",
      "You are Senior Citizen and eligible for tax discounts\n"
     ]
    }
   ],
   "source": [
    "age=int(input('Enter the age: '))\n",
    "if age >=65:\n",
    "    print('You are Senior Citizen and eligible for tax discounts')\n",
    "else:\n",
    "    print('You are not eligible for tax discounts')"
   ]
  },
  {
   "cell_type": "code",
   "execution_count": 21,
   "id": "04167bf5",
   "metadata": {},
   "outputs": [
    {
     "name": "stdout",
     "output_type": "stream",
     "text": [
      "Enter a character: 0\n",
      "This is not any type of character\n"
     ]
    }
   ],
   "source": [
    "ch=input('Enter a character: ')\n",
    "if (ch>='A' and ch<='Z'):\n",
    "    print('This is Uppercase character')\n",
    "elif(ch>='a' and ch<='z'):\n",
    "    print('This is lowercase character')\n",
    "else:\n",
    "    print('This is not any type of character')"
   ]
  },
  {
   "cell_type": "code",
   "execution_count": 24,
   "id": "7c10ce85",
   "metadata": {},
   "outputs": [
    {
     "name": "stdout",
     "output_type": "stream",
     "text": [
      "Entera year: 1993\n",
      "20 century\n"
     ]
    }
   ],
   "source": [
    "year=int(input('Entera year: '))\n",
    "if year<=0:\n",
    "    print('0 and -ve not allowed for a year')\n",
    "elif year<=100:\n",
    "    print('This is 1st century')\n",
    "elif year%100==0:\n",
    "    print(year//100, 'century')\n",
    "else:\n",
    "    print(year//100 +1, 'century')"
   ]
  },
  {
   "cell_type": "code",
   "execution_count": 27,
   "id": "e491214f",
   "metadata": {},
   "outputs": [
    {
     "name": "stdout",
     "output_type": "stream",
     "text": [
      "Enter a num: 30\n",
      "The number is not a perfect square\n"
     ]
    }
   ],
   "source": [
    "import math\n",
    "num=int(input('Enter a num: '))\n",
    "sqrt_num=math.sqrt(num)\n",
    "if sqrt_num.is_integer():\n",
    "    print('The number is perfect square')\n",
    "else:\n",
    "    print('The number is not a perfect square')"
   ]
  },
  {
   "cell_type": "code",
   "execution_count": 29,
   "id": "83f6d0db",
   "metadata": {},
   "outputs": [
    {
     "name": "stdout",
     "output_type": "stream",
     "text": [
      "Enter the weight: 72\n",
      "Enter the height: 5.11\n",
      "underweight\n"
     ]
    }
   ],
   "source": [
    "weight=float(input('Enter the weight: '))\n",
    "height=float(input('Enter the height: '))\n",
    "bmi= weight/height**2\n",
    "if bmi<18.5:\n",
    "    print('underweight')\n",
    "elif 18.5<=bmi<25:\n",
    "    print('Normal')\n",
    "elif 25<=bmi<30:\n",
    "    print('overweight')\n",
    "elif bmi>=30:\n",
    "    print('obesity')"
   ]
  },
  {
   "cell_type": "code",
   "execution_count": 18,
   "id": "d4e7ae37",
   "metadata": {},
   "outputs": [
    {
     "name": "stdout",
     "output_type": "stream",
     "text": [
      "Enter a number: 7\n",
      "7 is a prime number\n"
     ]
    }
   ],
   "source": [
    "n=int(input('Enter a number: '))\n",
    "\n",
    "if n>1:\n",
    "    for i in range(2,int(n/2)+1):\n",
    "        if (n%i)==0:\n",
    "            print(n, 'is not a prime number')\n",
    "            break\n",
    "    else:\n",
    "        print(n,'is a prime number')\n",
    "else:\n",
    "    print(n,'is not a prime number')"
   ]
  },
  {
   "cell_type": "code",
   "execution_count": 20,
   "id": "b78af0c9",
   "metadata": {},
   "outputs": [
    {
     "data": {
      "text/plain": [
       "[1, 2, 4, 5, 8, 9]"
      ]
     },
     "execution_count": 20,
     "metadata": {},
     "output_type": "execute_result"
    }
   ],
   "source": [
    "l"
   ]
  },
  {
   "cell_type": "code",
   "execution_count": 21,
   "id": "6c26ef62",
   "metadata": {},
   "outputs": [],
   "source": [
    "#map functions accept another functions and its iterables as argumnts/parameters and give output a new iterables with results\n",
    "def test(n):\n",
    "    return n+2"
   ]
  },
  {
   "cell_type": "code",
   "execution_count": 22,
   "id": "38bfe646",
   "metadata": {},
   "outputs": [
    {
     "data": {
      "text/plain": [
       "[3, 4, 6, 7, 10, 11]"
      ]
     },
     "execution_count": 22,
     "metadata": {},
     "output_type": "execute_result"
    }
   ],
   "source": [
    "list(map(test, l))"
   ]
  },
  {
   "cell_type": "code",
   "execution_count": 27,
   "id": "6bdb89ed",
   "metadata": {},
   "outputs": [
    {
     "name": "stdout",
     "output_type": "stream",
     "text": [
      "[4, 16, 36, 64]\n"
     ]
    }
   ],
   "source": [
    "def sqr(n):\n",
    "    return n*n\n",
    "num=(2,4,6,8)\n",
    "result=map(sqr,num)\n",
    "print(list(result))"
   ]
  },
  {
   "cell_type": "code",
   "execution_count": 29,
   "id": "86577758",
   "metadata": {},
   "outputs": [
    {
     "name": "stdout",
     "output_type": "stream",
     "text": [
      "[88, 11.0, 12]\n"
     ]
    }
   ],
   "source": [
    "lst = [2, 44, 5.5, 6, -7] \n",
    "  \n",
    "# to double the number \n",
    "# list comprehension \n",
    "x = [i * 2 for i in lst if i>5 ]  \n",
    "print(x) "
   ]
  },
  {
   "cell_type": "code",
   "execution_count": 30,
   "id": "23f74ed7",
   "metadata": {},
   "outputs": [],
   "source": [
    "# map functions accept another functions and its iterables as argumnts/parameters and give output a new iterables with results\n",
    "# syntax-- map(functionname, iterables)\n",
    "\n",
    "# List Comprehension is a substitute for the lambda, map(), filter() and reduce() function.\n",
    "# syntax-- x=[i*3 for i in list],  [expression for item in list if conditional]"
   ]
  },
  {
   "cell_type": "code",
   "execution_count": 31,
   "id": "1128eeb9",
   "metadata": {},
   "outputs": [
    {
     "name": "stdout",
     "output_type": "stream",
     "text": [
      "['KARAN', 'SINGH', 'RAWAT']\n"
     ]
    }
   ],
   "source": [
    "name=map(lambda i:i.upper(), ['karan', 'singh', 'rawat'])\n",
    "result=list(name)\n",
    "print(result)"
   ]
  },
  {
   "cell_type": "code",
   "execution_count": 35,
   "id": "03f7aca0",
   "metadata": {},
   "outputs": [
    {
     "name": "stdout",
     "output_type": "stream",
     "text": [
      "The length of words is: [4, 2, 6, 5, 2, 3, 8]\n"
     ]
    }
   ],
   "source": [
    "string='This is python class of map function'\n",
    "res=list(map(len, string.split()))\n",
    "print('The length of words is: ' +str(res))"
   ]
  },
  {
   "cell_type": "code",
   "execution_count": 1,
   "id": "31acf6e9",
   "metadata": {},
   "outputs": [],
   "source": [
    "#reduce is trying to collapse the data untill the final output come.\n",
    "# to import we need to use, from functools import reduce"
   ]
  },
  {
   "cell_type": "code",
   "execution_count": 2,
   "id": "508eeb61",
   "metadata": {},
   "outputs": [],
   "source": [
    "l=[2,5,6,8]\n",
    "from functools import reduce"
   ]
  },
  {
   "cell_type": "code",
   "execution_count": 4,
   "id": "561659e3",
   "metadata": {},
   "outputs": [
    {
     "data": {
      "text/plain": [
       "480"
      ]
     },
     "execution_count": 4,
     "metadata": {},
     "output_type": "execute_result"
    }
   ],
   "source": [
    "reduce(lambda a,b: a*b, l)"
   ]
  },
  {
   "cell_type": "code",
   "execution_count": 5,
   "id": "4376aa69",
   "metadata": {},
   "outputs": [
    {
     "data": {
      "text/plain": [
       "8"
      ]
     },
     "execution_count": 5,
     "metadata": {},
     "output_type": "execute_result"
    }
   ],
   "source": [
    "reduce(lambda a,b: a if a>b else b, l)"
   ]
  },
  {
   "cell_type": "code",
   "execution_count": 7,
   "id": "f92283f4",
   "metadata": {},
   "outputs": [
    {
     "name": "stdout",
     "output_type": "stream",
     "text": [
      "['Hello World', 'Hi there', 'Good Morning all']\n"
     ]
    }
   ],
   "source": [
    "l1=['Hello','Hi','Good Morning']\n",
    "l2=['World','there','all']\n",
    "from functools import reduce\n",
    "result=reduce(lambda res, l:res + [l[0] + ' '+ l[1]], zip(l1,l2),[])\n",
    "print(result)"
   ]
  },
  {
   "cell_type": "code",
   "execution_count": 11,
   "id": "b9cea8d9",
   "metadata": {},
   "outputs": [
    {
     "name": "stdout",
     "output_type": "stream",
     "text": [
      "Enter a number: 5\n",
      "120\n"
     ]
    }
   ],
   "source": [
    "from functools import reduce\n",
    "num=int(input('Enter a number: '))\n",
    "fact=reduce(lambda x,y:x*y, range(1,num+1))\n",
    "print(fact)"
   ]
  },
  {
   "cell_type": "code",
   "execution_count": 15,
   "id": "c682ca5a",
   "metadata": {},
   "outputs": [
    {
     "name": "stdout",
     "output_type": "stream",
     "text": [
      "3\n"
     ]
    }
   ],
   "source": [
    "from functools import reduce\n",
    "def gcd(a,b):\n",
    "    if a==0:\n",
    "        return b\n",
    "    else:\n",
    "        return gcd(b%a,a)\n",
    "a=[12,24,27,30]\n",
    "gcdp=reduce(lambda x,y:gcd(x,y),a)\n",
    "print(gcdp)"
   ]
  },
  {
   "cell_type": "code",
   "execution_count": 16,
   "id": "5e7cfc83",
   "metadata": {},
   "outputs": [
    {
     "data": {
      "text/plain": [
       "34"
      ]
     },
     "execution_count": 16,
     "metadata": {},
     "output_type": "execute_result"
    }
   ],
   "source": [
    "l1=[1,2,3,6,5,8,9]\n",
    "from functools import reduce\n",
    "reduce(lambda a,b: a+b, l1)"
   ]
  },
  {
   "cell_type": "code",
   "execution_count": 1,
   "id": "4c16ec0e",
   "metadata": {},
   "outputs": [],
   "source": [
    "# The filter() method filters the given sequence with the help of a function\n",
    "# Syntax: filter(function, iterable or sequence)"
   ]
  },
  {
   "cell_type": "code",
   "execution_count": 14,
   "id": "1b6d675c",
   "metadata": {},
   "outputs": [],
   "source": [
    "list1=[1,2,3,6,5,8,7,11,9,14,15,23,28]"
   ]
  },
  {
   "cell_type": "code",
   "execution_count": 15,
   "id": "7101bd01",
   "metadata": {},
   "outputs": [
    {
     "data": {
      "text/plain": [
       "[2, 6, 8, 14, 28]"
      ]
     },
     "execution_count": 15,
     "metadata": {},
     "output_type": "execute_result"
    }
   ],
   "source": [
    "list(filter(lambda a: a%2==0, list1))"
   ]
  },
  {
   "cell_type": "code",
   "execution_count": 38,
   "id": "e35f5108",
   "metadata": {},
   "outputs": [],
   "source": [
    "lstr=['karan','pahadi','rawat', 'yes']"
   ]
  },
  {
   "cell_type": "code",
   "execution_count": 39,
   "id": "0626132a",
   "metadata": {},
   "outputs": [
    {
     "data": {
      "text/plain": [
       "['rawat']"
      ]
     },
     "execution_count": 39,
     "metadata": {},
     "output_type": "execute_result"
    }
   ],
   "source": [
    "list(filter(lambda a: a[0]=='r', lstr))"
   ]
  },
  {
   "cell_type": "code",
   "execution_count": 18,
   "id": "9cf50f8a",
   "metadata": {},
   "outputs": [
    {
     "data": {
      "text/plain": [
       "[1, 2, 3, 6, 5, 8, 7, 11, 9, 14, 15, 23, 28]"
      ]
     },
     "execution_count": 18,
     "metadata": {},
     "output_type": "execute_result"
    }
   ],
   "source": [
    "list1"
   ]
  },
  {
   "cell_type": "code",
   "execution_count": 35,
   "id": "0c98366e",
   "metadata": {},
   "outputs": [],
   "source": [
    "list2=[1,3,5,11,12,17,20,23]\n",
    "for i in list2:\n",
    "    list(filter(lambda x: x==i or x%i, list2))"
   ]
  },
  {
   "cell_type": "code",
   "execution_count": 31,
   "id": "b1b013ff",
   "metadata": {},
   "outputs": [
    {
     "ename": "TypeError",
     "evalue": "'function' object is not subscriptable",
     "output_type": "error",
     "traceback": [
      "\u001b[1;31m---------------------------------------------------------------------------\u001b[0m",
      "\u001b[1;31mTypeError\u001b[0m                                 Traceback (most recent call last)",
      "Cell \u001b[1;32mIn[31], line 4\u001b[0m\n\u001b[0;32m      2\u001b[0m         \u001b[38;5;28;01mfor\u001b[39;00m i \u001b[38;5;129;01min\u001b[39;00m \u001b[38;5;28mrange\u001b[39m(\u001b[38;5;241m2\u001b[39m, \u001b[38;5;241m8\u001b[39m):\n\u001b[0;32m      3\u001b[0m             \u001b[38;5;28;01mreturn\u001b[39;00m \u001b[38;5;28mfilter\u001b[39m(\u001b[38;5;28;01mlambda\u001b[39;00m x: x \u001b[38;5;241m==\u001b[39m i \u001b[38;5;129;01mor\u001b[39;00m x \u001b[38;5;241m%\u001b[39m i, mylist)\n\u001b[1;32m----> 4\u001b[0m \u001b[38;5;28mprint\u001b[39m(\u001b[38;5;28mlist\u001b[39m(prime[\u001b[38;5;241m2\u001b[39m,\u001b[38;5;241m5\u001b[39m,\u001b[38;5;241m8\u001b[39m,\u001b[38;5;241m9\u001b[39m,\u001b[38;5;241m11\u001b[39m,\u001b[38;5;241m16\u001b[39m,\u001b[38;5;241m17\u001b[39m,\u001b[38;5;241m19\u001b[39m,\u001b[38;5;241m22\u001b[39m,\u001b[38;5;241m23\u001b[39m]))\n",
      "\u001b[1;31mTypeError\u001b[0m: 'function' object is not subscriptable"
     ]
    }
   ],
   "source": [
    "def prime (mylist):\n",
    "        for i in range(2, 8):\n",
    "            return filter(lambda x: x == i or x % i, mylist)\n",
    "print(list(prime[2,5,8,9,11,16,17,19,22,23]))"
   ]
  },
  {
   "cell_type": "code",
   "execution_count": 37,
   "id": "11595062",
   "metadata": {},
   "outputs": [
    {
     "name": "stdout",
     "output_type": "stream",
     "text": [
      "The original list is: [1, None, 2, None, 5, False]\n",
      "This is List after removing None [1, 2, 5, False]\n"
     ]
    }
   ],
   "source": [
    "test_list=[1,None, 2,None, 5, False]\n",
    "print('The original list is: ' + str(test_list))\n",
    "result=list(filter(lambda item: item is not None, test_list))\n",
    "print('This is List after removing None ' +str(result))"
   ]
  },
  {
   "cell_type": "code",
   "execution_count": 40,
   "id": "7b502b6d",
   "metadata": {},
   "outputs": [
    {
     "data": {
      "text/plain": [
       "['yes']"
      ]
     },
     "execution_count": 40,
     "metadata": {},
     "output_type": "execute_result"
    }
   ],
   "source": [
    "list(filter(lambda a: len(a)<=3, lstr))"
   ]
  },
  {
   "cell_type": "code",
   "execution_count": 41,
   "id": "17aedf55",
   "metadata": {},
   "outputs": [
    {
     "name": "stdout",
     "output_type": "stream",
     "text": [
      "The original string is- ['karan', 'is', 'pahadi', 'from', 'uttrakhand']\n",
      "The result after threshold is- ['karan', 'pahadi', 'uttrakhand']\n"
     ]
    }
   ],
   "source": [
    "thres_str=['karan','is','pahadi', 'from','uttrakhand']\n",
    "print('The original string is- ' +str(thres_str))\n",
    "thres=5\n",
    "result=list(filter(lambda ele: len(ele)>=thres, thres_str))\n",
    "print('The result after threshold is- ' +str(result))"
   ]
  },
  {
   "cell_type": "code",
   "execution_count": 2,
   "id": "43aad7c7",
   "metadata": {},
   "outputs": [],
   "source": [
    "#Recursion is the process of defining something in terms of itself"
   ]
  },
  {
   "cell_type": "code",
   "execution_count": null,
   "id": "edd8c1db",
   "metadata": {},
   "outputs": [],
   "source": [
    "def fact(n):\n",
    "    if n==1:\n",
    "        return 1\n",
    "    else:\n",
    "        return n*fact(n-1)\n",
    "        "
   ]
  },
  {
   "cell_type": "code",
   "execution_count": 5,
   "id": "641131f4",
   "metadata": {},
   "outputs": [
    {
     "data": {
      "text/plain": [
       "720"
      ]
     },
     "execution_count": 5,
     "metadata": {},
     "output_type": "execute_result"
    }
   ],
   "source": [
    "fact(6)"
   ]
  },
  {
   "cell_type": "code",
   "execution_count": 6,
   "id": "7183c81e",
   "metadata": {},
   "outputs": [],
   "source": [
    "def fib(n):\n",
    "    if n<=1:\n",
    "        return 1\n",
    "    else:\n",
    "        return fib(n-1) + fib(n-2)"
   ]
  },
  {
   "cell_type": "code",
   "execution_count": 11,
   "id": "5b1afafa",
   "metadata": {},
   "outputs": [
    {
     "data": {
      "text/plain": [
       "34"
      ]
     },
     "execution_count": 11,
     "metadata": {},
     "output_type": "execute_result"
    }
   ],
   "source": [
    "fib(8)"
   ]
  },
  {
   "cell_type": "code",
   "execution_count": 12,
   "id": "0498ab8b",
   "metadata": {},
   "outputs": [
    {
     "name": "stdout",
     "output_type": "stream",
     "text": [
      "30\n"
     ]
    }
   ],
   "source": [
    "def findsum(list1):\n",
    "    if len(list1)==1:\n",
    "        return list1[0]\n",
    "    else:\n",
    "        return list1[0]+findsum(list1[1:])\n",
    "\n",
    "list1=[]\n",
    "list1=[2,5,8,9,6]\n",
    "print(findsum(list1))"
   ]
  },
  {
   "cell_type": "code",
   "execution_count": 16,
   "id": "c06a1377",
   "metadata": {},
   "outputs": [
    {
     "name": "stdout",
     "output_type": "stream",
     "text": [
      "Enter first number: 24\n",
      "Enter second number: 16\n",
      "GCD is: \n",
      "8\n"
     ]
    }
   ],
   "source": [
    "def gcd(a,b):\n",
    "    if(b==0):\n",
    "        return a\n",
    "    else:\n",
    "        return gcd(b,a%b)\n",
    "\n",
    "a=int(input(\"Enter first number: \"))\n",
    "b=int(input('Enter second number: '))\n",
    "output=gcd(a,b)\n",
    "print('GCD is: ')\n",
    "print(output)"
   ]
  },
  {
   "cell_type": "code",
   "execution_count": 17,
   "id": "109ae370",
   "metadata": {},
   "outputs": [],
   "source": [
    "def revstr(mystr):\n",
    "    if len(mystr)==0:\n",
    "        return mystr\n",
    "    else:\n",
    "        return revstr(mystr[1:])+ mystr[0]"
   ]
  },
  {
   "cell_type": "code",
   "execution_count": 18,
   "id": "b26a0fae",
   "metadata": {},
   "outputs": [
    {
     "data": {
      "text/plain": [
       "'tawar'"
      ]
     },
     "execution_count": 18,
     "metadata": {},
     "output_type": "execute_result"
    }
   ],
   "source": [
    "revstr('rawat')"
   ]
  },
  {
   "cell_type": "code",
   "execution_count": 20,
   "id": "f8c8b61c",
   "metadata": {},
   "outputs": [
    {
     "name": "stdout",
     "output_type": "stream",
     "text": [
      "Enter the base value: 3\n",
      "Enter the exponential value: 4\n",
      "Result is:  81\n"
     ]
    }
   ],
   "source": [
    "def power(base,exp):\n",
    "    if (exp==1):\n",
    "        return base\n",
    "    if (exp==0):\n",
    "        return 1\n",
    "    if (exp!=1):\n",
    "        return (base*power(base,exp-1))\n",
    "\n",
    "base=int(input('Enter the base value: '))\n",
    "exp=int(input('Enter the exponential value: '))\n",
    "print('Result is: ', power(base,exp))"
   ]
  },
  {
   "cell_type": "code",
   "execution_count": 21,
   "id": "ae3fbc66",
   "metadata": {},
   "outputs": [
    {
     "name": "stdout",
     "output_type": "stream",
     "text": [
      "['abc', 'acb', 'bac', 'bca', 'cab', 'cba']\n"
     ]
    }
   ],
   "source": [
    "def permutations(s):\n",
    "    if len(s)==1:\n",
    "        return[s]\n",
    "    else:\n",
    "        perms=[]\n",
    "        for i, c in enumerate(s):\n",
    "            for perm in permutations(s[:i]+s[i+1:]):\n",
    "                perms.append(c+perm)\n",
    "        return perms\n",
    "\n",
    "s='abc'\n",
    "print(permutations(s))"
   ]
  },
  {
   "cell_type": "code",
   "execution_count": 33,
   "id": "35fb56e1",
   "metadata": {},
   "outputs": [
    {
     "name": "stdout",
     "output_type": "stream",
     "text": [
      "Enter a string: rawat\n",
      "String is not palindrome\n"
     ]
    }
   ],
   "source": [
    "def palindrom(s):\n",
    "    if len(s)<1:\n",
    "        return True\n",
    "    else:\n",
    "        if s[0]==s[-1]:\n",
    "            return palindrom(s[1:-1])\n",
    "        else:\n",
    "            return False\n",
    "        \n",
    "a=input('Enter a string: ')\n",
    "if(palindrom(a)==True):\n",
    "    print('String is Palindrome')\n",
    "else:\n",
    "    print('String is not palindrome')"
   ]
  },
  {
   "cell_type": "code",
   "execution_count": 35,
   "id": "c82b52f6",
   "metadata": {},
   "outputs": [
    {
     "ename": "SyntaxError",
     "evalue": "invalid syntax (784843109.py, line 7)",
     "output_type": "error",
     "traceback": [
      "\u001b[1;36m  Cell \u001b[1;32mIn[35], line 7\u001b[1;36m\u001b[0m\n\u001b[1;33m    return [ for i in range(len(lst)-n+1) for c in combination(lst[i+1:], n-1)]\u001b[0m\n\u001b[1;37m             ^\u001b[0m\n\u001b[1;31mSyntaxError\u001b[0m\u001b[1;31m:\u001b[0m invalid syntax\n"
     ]
    }
   ],
   "source": [
    "testlst=[2,3,6,5]\n",
    "print('The list is: ' + str(testlst))\n",
    "def combination(lst,n):\n",
    "    if n==0:\n",
    "        return [[]]\n",
    "    else:\n",
    "        return [ for i in range(len(lst)-n+1) for c in combination(lst[i+1:], n-1)]\n",
    "\n",
    "res=[tuple(c) for i in range(1,4) for c in combination(testlst,i)]\n",
    "print('The combination is: '+str(res))"
   ]
  },
  {
   "cell_type": "code",
   "execution_count": null,
   "id": "88d6cb1e",
   "metadata": {},
   "outputs": [],
   "source": [
    "#A function is a block of code which only runs when it is called. You can pass data, known as parameters, into a function. A function can return data as a result."
   ]
  },
  {
   "cell_type": "code",
   "execution_count": 36,
   "id": "157b75fd",
   "metadata": {},
   "outputs": [],
   "source": [
    "#This is how we define a function in Python\n",
    "def my_function():\n",
    "  print(\"Hello from a function\")"
   ]
  },
  {
   "cell_type": "code",
   "execution_count": 37,
   "id": "21e64e19",
   "metadata": {},
   "outputs": [
    {
     "name": "stdout",
     "output_type": "stream",
     "text": [
      "Hello from a function\n"
     ]
    }
   ],
   "source": [
    "my_function()"
   ]
  },
  {
   "cell_type": "code",
   "execution_count": 39,
   "id": "bab227f8",
   "metadata": {},
   "outputs": [],
   "source": [
    "#function define\n",
    "def greet(name):\n",
    "    print(\"Hello, \" + name)\n"
   ]
  },
  {
   "cell_type": "code",
   "execution_count": 40,
   "id": "884c91c8",
   "metadata": {},
   "outputs": [
    {
     "name": "stdout",
     "output_type": "stream",
     "text": [
      "Hello, John\n"
     ]
    }
   ],
   "source": [
    "#function call\n",
    "greet('John')"
   ]
  },
  {
   "cell_type": "code",
   "execution_count": 41,
   "id": "a1fc724d",
   "metadata": {},
   "outputs": [],
   "source": [
    "def additional(a,b):\n",
    "    return a+b"
   ]
  },
  {
   "cell_type": "code",
   "execution_count": 42,
   "id": "ca2526a0",
   "metadata": {},
   "outputs": [
    {
     "data": {
      "text/plain": [
       "11"
      ]
     },
     "execution_count": 42,
     "metadata": {},
     "output_type": "execute_result"
    }
   ],
   "source": [
    "additional(5,6)"
   ]
  },
  {
   "cell_type": "code",
   "execution_count": 43,
   "id": "bea24068",
   "metadata": {},
   "outputs": [],
   "source": [
    "def product(a,b):\n",
    "    return a*b"
   ]
  },
  {
   "cell_type": "code",
   "execution_count": 44,
   "id": "69530640",
   "metadata": {},
   "outputs": [
    {
     "data": {
      "text/plain": [
       "20"
      ]
     },
     "execution_count": 44,
     "metadata": {},
     "output_type": "execute_result"
    }
   ],
   "source": [
    "product(5,4)"
   ]
  },
  {
   "cell_type": "code",
   "execution_count": 1,
   "id": "284dffa8",
   "metadata": {},
   "outputs": [],
   "source": [
    "#The Formal Parameters are the values determined by the function that accepts values when the function is declared\n",
    "# The Actual arguments are the parameters which we use in the function call or the parameters which we use to send the values/data during the function call"
   ]
  },
  {
   "cell_type": "code",
   "execution_count": 3,
   "id": "6f4dc437",
   "metadata": {},
   "outputs": [
    {
     "name": "stdout",
     "output_type": "stream",
     "text": [
      "Sum is:  10\n",
      "Sum is:  12\n",
      "Sum is:  7\n"
     ]
    }
   ],
   "source": [
    "def num(a=2,b=5):\n",
    "    sum=a+b\n",
    "    print('Sum is: ', sum)\n",
    "\n",
    "num(3,7)\n",
    "num(a=7)\n",
    "num()"
   ]
  },
  {
   "cell_type": "code",
   "execution_count": 5,
   "id": "780affd0",
   "metadata": {},
   "outputs": [
    {
     "name": "stdout",
     "output_type": "stream",
     "text": [
      "Raj is working on Disney\n"
     ]
    }
   ],
   "source": [
    "#Keyword arguments are values that, when passed into a function, are identifiable by specific parameter names.\n",
    "\n",
    "def team(name, project):\n",
    "    print(name, 'is working on',project)\n",
    "team(name='Raj', project='Disney')"
   ]
  },
  {
   "cell_type": "code",
   "execution_count": 8,
   "id": "8f8e9ca5",
   "metadata": {},
   "outputs": [],
   "source": [
    "def sum_all(*args):\n",
    "    t=()\n",
    "    s=0\n",
    "    for i in args:\n",
    "        s=s+i\n",
    "    print(s)"
   ]
  },
  {
   "cell_type": "code",
   "execution_count": 9,
   "id": "af366ba0",
   "metadata": {},
   "outputs": [
    {
     "name": "stdout",
     "output_type": "stream",
     "text": [
      "30\n"
     ]
    }
   ],
   "source": [
    "sum_all(2,5,8,9,6)"
   ]
  },
  {
   "cell_type": "code",
   "execution_count": 10,
   "id": "5f8903c0",
   "metadata": {},
   "outputs": [],
   "source": [
    "#*args passes variable number of non-keyworded arguments and on which operation of the tuple can be performed.\n",
    "#**kwargs passes variable number of keyword arguments dictionary to function on which operation of a dictionary can be performed"
   ]
  },
  {
   "cell_type": "code",
   "execution_count": 11,
   "id": "eda169e4",
   "metadata": {},
   "outputs": [],
   "source": [
    "#returns will show the output and can be store in new variable and it used to end the execution of the function call and “returns” the result."
   ]
  },
  {
   "cell_type": "code",
   "execution_count": 12,
   "id": "83e2b8e1",
   "metadata": {},
   "outputs": [],
   "source": [
    "def cube(x):\n",
    "    r=x**3\n",
    "    return r"
   ]
  },
  {
   "cell_type": "code",
   "execution_count": 13,
   "id": "04ffa1dd",
   "metadata": {},
   "outputs": [
    {
     "data": {
      "text/plain": [
       "64"
      ]
     },
     "execution_count": 13,
     "metadata": {},
     "output_type": "execute_result"
    }
   ],
   "source": [
    "cube(4)"
   ]
  },
  {
   "cell_type": "code",
   "execution_count": 14,
   "id": "50b46e6c",
   "metadata": {},
   "outputs": [],
   "source": [
    "#local variables are those which define inside a function\n",
    "#global variables are those which are not define inside a function and can be used outside the function"
   ]
  },
  {
   "cell_type": "code",
   "execution_count": 15,
   "id": "f7998458",
   "metadata": {},
   "outputs": [
    {
     "name": "stdout",
     "output_type": "stream",
     "text": [
      "Accessing inside a function: My global variable\n",
      "Accessing outside a function: My global variable\n"
     ]
    }
   ],
   "source": [
    "x='My global variable'\n",
    "def var():\n",
    "    print('Accessing inside a function: '+ x)\n",
    "\n",
    "var()\n",
    "print('Accessing outside a function: '+x)"
   ]
  },
  {
   "cell_type": "code",
   "execution_count": 16,
   "id": "02f91b3e",
   "metadata": {},
   "outputs": [],
   "source": [
    "def factorial(n):\n",
    "    if n==1:\n",
    "        return 1\n",
    "    else:\n",
    "        return n*factorial(n-1)"
   ]
  },
  {
   "cell_type": "code",
   "execution_count": 17,
   "id": "19f6c28f",
   "metadata": {},
   "outputs": [
    {
     "data": {
      "text/plain": [
       "24"
      ]
     },
     "execution_count": 17,
     "metadata": {},
     "output_type": "execute_result"
    }
   ],
   "source": [
    "factorial(4)"
   ]
  },
  {
   "cell_type": "code",
   "execution_count": 19,
   "id": "a753ff87",
   "metadata": {},
   "outputs": [
    {
     "name": "stdout",
     "output_type": "stream",
     "text": [
      "The outside variable is:  10\n"
     ]
    }
   ],
   "source": [
    "#we can access the global variable outside the function only\n",
    "x=10\n",
    "def show():\n",
    "    print('The outside variable is: ', x)\n",
    "show()"
   ]
  },
  {
   "cell_type": "code",
   "execution_count": 20,
   "id": "105f5596",
   "metadata": {},
   "outputs": [],
   "source": [
    "#A lambda function can take any number of arguments, but can only have one expression and it is anonymous function"
   ]
  },
  {
   "cell_type": "code",
   "execution_count": 23,
   "id": "50415b28",
   "metadata": {},
   "outputs": [
    {
     "name": "stdout",
     "output_type": "stream",
     "text": [
      "[(2000, 'Python'), (1500, 'dotnet'), (1000, 'java')]\n",
      "[(2000, 'Python'), (1500, 'dotnet'), (1000, 'java')]\n"
     ]
    }
   ],
   "source": [
    "tup=[(1000,'java'),(1500,'dotnet'),(2000,'Python')]\n",
    "tup.sort(key=lambda x:x[1])\n",
    "print(tup)\n",
    "tup=[(1000,'java'),(1500,'dotnet'),(2000,'Python')]\n",
    "sort_list=sorted(tup, key=lambda x:x[1])\n",
    "print(sort_list)"
   ]
  },
  {
   "cell_type": "code",
   "execution_count": 24,
   "id": "4f277912",
   "metadata": {},
   "outputs": [],
   "source": [
    "#Functions that take other functions as parameters or return them as results are called higher-order functions\n",
    "#map is an example of high order functions"
   ]
  },
  {
   "cell_type": "code",
   "execution_count": 27,
   "id": "d26e9b66",
   "metadata": {},
   "outputs": [
    {
     "name": "stdout",
     "output_type": "stream",
     "text": [
      "[4, 25, 64, 81]\n"
     ]
    }
   ],
   "source": [
    "no=[2,5,8,9]\n",
    "square=map(lambda x:x**2,no)\n",
    "print(list(square))"
   ]
  },
  {
   "cell_type": "code",
   "execution_count": 28,
   "id": "db2a026e",
   "metadata": {},
   "outputs": [
    {
     "name": "stdout",
     "output_type": "stream",
     "text": [
      "[6, 12, 14]\n"
     ]
    }
   ],
   "source": [
    "def doub(integer):\n",
    "    return integer*2\n",
    "int_list=[3,6,7]\n",
    "result=list(map(doub,int_list))\n",
    "print(result)"
   ]
  },
  {
   "cell_type": "code",
   "execution_count": 29,
   "id": "c23ae75d",
   "metadata": {},
   "outputs": [],
   "source": [
    "#the len() functions returns the length of list\n",
    "#the min() functions returns the smallest value from a collection\n",
    "#the max() functions returns the largest value from a collection"
   ]
  },
  {
   "cell_type": "code",
   "execution_count": 30,
   "id": "b5ea19c6",
   "metadata": {},
   "outputs": [
    {
     "name": "stdout",
     "output_type": "stream",
     "text": [
      "[2, 4, 6, 12, 10]\n"
     ]
    }
   ],
   "source": [
    "def plus(n):\n",
    "    return n+n\n",
    "numbers=(1,2,3,6,5)\n",
    "result=map(plus,numbers)\n",
    "print(list(result))"
   ]
  },
  {
   "cell_type": "code",
   "execution_count": 31,
   "id": "bff9efaa",
   "metadata": {},
   "outputs": [],
   "source": [
    "#The filter function can be applied to an iterable such as a list or a dictionary and create a new iterator"
   ]
  },
  {
   "cell_type": "code",
   "execution_count": 33,
   "id": "641d8fb7",
   "metadata": {},
   "outputs": [
    {
     "name": "stdout",
     "output_type": "stream",
     "text": [
      "Product using reduce func is: 324\n"
     ]
    }
   ],
   "source": [
    "from functools import reduce\n",
    "mylst=[1,2,3,6,9]\n",
    "product=reduce(lambda x,y:x*y, mylst)\n",
    "print('Product using reduce func is:', product)"
   ]
  },
  {
   "cell_type": "code",
   "execution_count": null,
   "id": "d48407fb",
   "metadata": {},
   "outputs": [],
   "source": []
  }
 ],
 "metadata": {
  "kernelspec": {
   "display_name": "Python 3 (ipykernel)",
   "language": "python",
   "name": "python3"
  },
  "language_info": {
   "codemirror_mode": {
    "name": "ipython",
    "version": 3
   },
   "file_extension": ".py",
   "mimetype": "text/x-python",
   "name": "python",
   "nbconvert_exporter": "python",
   "pygments_lexer": "ipython3",
   "version": "3.11.4"
  }
 },
 "nbformat": 4,
 "nbformat_minor": 5
}
